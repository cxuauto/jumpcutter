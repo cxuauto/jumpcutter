{
 "cells": [
  {
   "cell_type": "markdown",
   "metadata": {},
   "source": [
    "# Welcome to Jupyter!"
   ]
  },
  {
   "cell_type": "code",
   "execution_count": null,
   "metadata": {},
   "outputs": [],
   "source": [
    "from IPython.display import HTML, clear_output\n",
    "!wget -c https://johnvansickle.com/ffmpeg/releases/ffmpeg-release-amd64-static.tar.xz && tar xvf ffmpeg-release-amd64-static.tar.xz && mv ffmpeg-*-amd64-static bin\n",
    "!mkdir -p .local/bin && mv bin/* .local/bin\n",
    "!pip install -U audiotsm pytube\n",
    "clear_output()"
   ]
  },
  {
   "cell_type": "code",
   "execution_count": null,
   "metadata": {},
   "outputs": [],
   "source": [
    "!mkdir -p .local/bin && mv bin/* .local/bin"
   ]
  },
  {
   "cell_type": "code",
   "execution_count": null,
   "metadata": {},
   "outputs": [],
   "source": [
    "yt_url = \"https://www.youtube.com/watch?v=byLXCTVXSpE\"\n",
    "!youtube-dl \"{yt_url}\""
   ]
  },
  {
   "cell_type": "code",
   "execution_count": null,
   "metadata": {},
   "outputs": [],
   "source": [
    "!mv \"The Book of Connections - My 'National Treasure'-byLXCTVXSpE.mp4\" \"The Book of Connections - My _National Treasure_-byLXCTVXSpE.mp4\""
   ]
  },
  {
   "cell_type": "code",
   "execution_count": null,
   "metadata": {
    "scrolled": true
   },
   "outputs": [
    {
     "name": "stdout",
     "output_type": "stream",
     "text": [
      "frame= 1590 fps= 46 q=3.0 size=N/A time=00:01:05.98 bitrate=N/A speed=1.91x    \r"
     ]
    }
   ],
   "source": [
    "INPUT_FILE = \"The Book of Connections - My _National Treasure_-byLXCTVXSpE.mp4\"\n",
    "OUTPUT_FILE = \"jumped_\"+INPUT_FILE\n",
    "get_ipython().system('''\n",
    "python jumpcutter.py --input_file '\"{INPUT_FILE}\"' --output_file '\"{OUTPUT_FILE}\"' \\\n",
    "--frame_margin 3 --silent_speed 8\n",
    "''')"
   ]
  },
  {
   "cell_type": "markdown",
   "metadata": {},
   "source": [
    "```\n",
    "usage: jumpcutter.py [-h] [--input_file INPUT_FILE] [--url URL]\n",
    "                     [--output_file OUTPUT_FILE]\n",
    "                     [--silent_threshold SILENT_THRESHOLD]\n",
    "                     [--sounded_speed SOUNDED_SPEED]\n",
    "                     [--silent_speed SILENT_SPEED]\n",
    "                     [--frame_margin FRAME_MARGIN] [--sample_rate SAMPLE_RATE]\n",
    "                     [--frame_rate FRAME_RATE] [--frame_quality FRAME_QUALITY]\n",
    "\n",
    "Modifies a video file to play at different speeds when there is sound vs.\n",
    "silence.\n",
    "\n",
    "optional arguments:\n",
    "  -h, --help            show this help message and exit\n",
    "  --input_file INPUT_FILE\n",
    "                        the video file you want modified\n",
    "  --url URL             A youtube url to download and process\n",
    "  --output_file OUTPUT_FILE\n",
    "                        the output file. (optional. if not included, it'll\n",
    "                        just modify the input file name)\n",
    "  --silent_threshold SILENT_THRESHOLD\n",
    "                        the volume amount that frames' audio needs to surpass\n",
    "                        to be consider \"sounded\". It ranges from 0 (silence)\n",
    "                        to 1 (max volume)\n",
    "  --sounded_speed SOUNDED_SPEED\n",
    "                        the speed that sounded (spoken) frames should be\n",
    "                        played at. Typically 1.\n",
    "  --silent_speed SILENT_SPEED\n",
    "                        the speed that silent frames should be played at.\n",
    "                        999999 for jumpcutting.\n",
    "  --frame_margin FRAME_MARGIN\n",
    "                        some silent frames adjacent to sounded frames are\n",
    "                        included to provide context. How many frames on either\n",
    "                        the side of speech should be included? That's this\n",
    "                        variable.\n",
    "  --sample_rate SAMPLE_RATE\n",
    "                        sample rate of the input and output videos\n",
    "  --frame_rate FRAME_RATE\n",
    "                        frame rate of the input and output videos. optional...\n",
    "                        I try to find it out myself, but it doesn't always\n",
    "                        work.\n",
    "  --frame_quality FRAME_QUALITY\n",
    "                        quality of frames to be extracted from input video. 1\n",
    "                        is highest, 31 is lowest, 3 is the default.\n",
    "```"
   ]
  },
  {
   "cell_type": "code",
   "execution_count": null,
   "metadata": {},
   "outputs": [],
   "source": [
    "\n"
   ]
  }
 ],
 "metadata": {
  "kernelspec": {
   "display_name": "Python 3",
   "language": "python",
   "name": "python3"
  },
  "language_info": {
   "codemirror_mode": {
    "name": "ipython",
    "version": 3
   },
   "file_extension": ".py",
   "mimetype": "text/x-python",
   "name": "python",
   "nbconvert_exporter": "python",
   "pygments_lexer": "ipython3",
   "version": "3.6.11"
  }
 },
 "nbformat": 4,
 "nbformat_minor": 2
}
